{
 "cells": [
  {
   "cell_type": "code",
   "execution_count": 1,
   "metadata": {},
   "outputs": [
    {
     "name": "stderr",
     "output_type": "stream",
     "text": [
      "┌ Info:   Gnuplot version: 5.2.0\n",
      "└ @ Gnuplot C:\\Users\\User\\.julia\\packages\\Gnuplot\\GkEY3\\src\\Gnuplot.jl:111\n"
     ]
    }
   ],
   "source": [
    "using Random, Gnuplot, Statistics"
   ]
  },
  {
   "cell_type": "code",
   "execution_count": 2,
   "metadata": {},
   "outputs": [
    {
     "name": "stderr",
     "output_type": "stream",
     "text": [
      "┌ Info: Creating session default...\n",
      "└ @ Gnuplot C:\\Users\\User\\.julia\\packages\\Gnuplot\\GkEY3\\src\\Gnuplot.jl:173\n",
      "┌ Info:   Gnuplot version: 5.2.0\n",
      "└ @ Gnuplot C:\\Users\\User\\.julia\\packages\\Gnuplot\\GkEY3\\src\\Gnuplot.jl:111\n"
     ]
    },
    {
     "name": "stdout",
     "output_type": "stream",
     "text": [
      "\u001b[36mGNUPLOT (default) -> wxt\u001b[39m\n",
      "\u001b[36mGNUPLOT (default) -> 0 enhanced\u001b[39m\n",
      "\u001b[36mGNUPLOT (default) -> multiplot> plot  \u001b[39m\n",
      "\u001b[36mGNUPLOT (default) ->                  ^\u001b[39m\n",
      "\u001b[36mGNUPLOT (default) ->            line 0: function to plot expected\u001b[39m\n"
     ]
    }
   ],
   "source": [
    "X = randn(1000) * 10e-6\n",
    "@gp \"set multiplot layout 1,2\"\n",
    "@gp :- 1 X\n",
    "h = hist(X, nbins=10)\n",
    "@gp :- 2 h "
   ]
  },
  {
   "cell_type": "code",
   "execution_count": 3,
   "metadata": {},
   "outputs": [
    {
     "data": {
      "text/plain": [
       "(-1.0970758440418569e-7, 9.644229019973018e-6)"
      ]
     },
     "execution_count": 3,
     "metadata": {},
     "output_type": "execute_result"
    }
   ],
   "source": [
    "mean(X), std(X)"
   ]
  },
  {
   "cell_type": "code",
   "execution_count": 3,
   "metadata": {},
   "outputs": [
    {
     "data": {
      "text/plain": [
       "1.8608498440793237e8"
      ]
     },
     "execution_count": 3,
     "metadata": {},
     "output_type": "execute_result"
    }
   ],
   "source": [
    "function trapez(f, a, b, n)\n",
    "    h = (b - a)/n\n",
    "    result = 0.5*(f(a) + f(b))\n",
    "    for i in 1:n-1\n",
    "        result += f(a + i*h)\n",
    "    end\n",
    "    result * h\n",
    "end\n",
    "\n",
    "function rk4(f, x, y, h)\n",
    "    k1 = h * f(x       , y        )\n",
    "    k2 = h * f(x + 0.5h, y + 0.5k1)\n",
    "    k3 = h * f(x + 0.5h, y + 0.5k2)\n",
    "    k4 = h * f(x +    h, y +    k3)\n",
    "    \n",
    "    return y + (k1 + 2*(k2 + k3) + k4)/6.0\n",
    "end\n",
    "\n",
    "const ħ = 1.055e-34 # J*s \n",
    "const kB = 1.381e-23 # J*K-1\n",
    "const g = 9.8 # m/s^2\n",
    "\n",
    "const l1 = 76e-3 # m\n",
    "const l2 = 113e-3 # m\n",
    "const yh = 2.8e-3 # m\n",
    "const d = 6e-6 # m\n",
    "const b = 2e-6 # m\n",
    "const a1 = 0.5(- d - b)\n",
    "const a2 = 0.5(- d + b)\n",
    "const b1 = 0.5(  d - b)\n",
    "const b2 = 0.5(  d + b)\n",
    "\n",
    "const m = 3.349e-26 # kg\n",
    "const T = 2.5e-3 # K\n",
    "const σv = sqrt(kB*T/m) # разброс скорости\n",
    "const σ₀ = 10e-6 # 10 mkm # разброс по х и по у\n",
    "const σz = 3e-4 # 0.3 mm # по z\n",
    "const σk = m*σv / (ħ*√3) # 2e8 m/s # отклонение для волнового вектора"
   ]
  },
  {
   "cell_type": "code",
   "execution_count": 4,
   "metadata": {},
   "outputs": [],
   "source": [
    "v₀ = zeros(3)\n",
    "k₀ = zeros(3);"
   ]
  },
  {
   "cell_type": "code",
   "execution_count": 194,
   "metadata": {
    "scrolled": true
   },
   "outputs": [
    {
     "data": {
      "text/plain": [
       "3-element Array{Float64,1}:\n",
       " -3.649135770763831e8 \n",
       "  1.7069564092337338e6\n",
       "  2.70439434749401e8  "
      ]
     },
     "execution_count": 194,
     "metadata": {},
     "output_type": "execute_result"
    }
   ],
   "source": [
    "v₀ = randn(3) * σv\n",
    "k₀ = randn(3) * σk # m*v₀/ħ"
   ]
  },
  {
   "cell_type": "markdown",
   "metadata": {},
   "source": [
    "## Before slits\n",
    "\n",
    "$$\n",
    "\\begin{aligned}\n",
    "\\psi_{x}\\left(x, t ; k_{0 x}\\right) &=\\left(2 \\pi s_{0}^{2}(t)\\right)^{-1 / 4} \\exp \\left[-\\frac{\\left(x-v_{0 x} t\\right)^{2}}{4 \\sigma_{0} s_{0}(t)}+i k_{0 x}\\left(x-v_{0 x} t\\right)\\right] \\\\\n",
    "\\rho_{x}(x, t) &=\\left(2 \\pi \\varepsilon_{0}^{2}(t)\\right)^{-1 / 2} \\exp \\left[-\\frac{x^{2}}{2 \\varepsilon_{0}^{2}(t)}\\right]\n",
    "\\end{aligned}\n",
    "$$\n",
    "\n",
    "$s_{0}(t)=\\sigma_{0} + \\frac{i \\hbar t}{2 m \\sigma_{0}}$\n",
    "\n",
    " $\\varepsilon_{0}^{2}(t)=s_{0}s_{0}^* + \\left(\\frac{\\hbar t \\sigma_{v}}{m}\\right)^{2}$ "
   ]
  },
  {
   "cell_type": "code",
   "execution_count": 5,
   "metadata": {},
   "outputs": [
    {
     "data": {
      "text/plain": [
       "0.1245399698154478"
      ]
     },
     "execution_count": 5,
     "metadata": {},
     "output_type": "execute_result"
    }
   ],
   "source": [
    "ε₀(t) = σ₀^2 + ( ħ/(2m*σ₀) * t )^2 + (ħ*t*σv/m)^2\n",
    "s₀(t) = σ₀ + im*ħ/(2m*σ₀) * t\n",
    "\n",
    "ρₓ(x, t) = exp( -x^2 / (2ε₀(t)) ) / sqrt( 2π*ε₀(t) )\n",
    "\n",
    "t₁(v, z) = sqrt( 2*(l1-z)/g + (v/g)^2 ) - v/g\n",
    "t₁(0, 0) # 124 ms"
   ]
  },
  {
   "cell_type": "code",
   "execution_count": 6,
   "metadata": {
    "scrolled": true
   },
   "outputs": [
    {
     "data": {
      "text/plain": [
       "0.1245399698154478"
      ]
     },
     "execution_count": 6,
     "metadata": {},
     "output_type": "execute_result"
    }
   ],
   "source": [
    "tf1 = t₁(v₀[3], 0) # s # время достижения первого экрана\n",
    "#v₀[3]*tf1 + 0.5g*tf1^2 # m"
   ]
  },
  {
   "cell_type": "code",
   "execution_count": 171,
   "metadata": {},
   "outputs": [],
   "source": [
    "X1 = range(-100, stop = 100, length = 100)*1e-6 \n",
    "Z1 = range(0, stop = l1, length = 100)\n",
    "Cron1 = range(0, stop = tf1, length = 100)\n",
    "\n",
    "P1 = [ ρₓ(x, t) for t in Cron1, x in X1 ]\n",
    "P1 /= maximum(P1); # нормируем на единицу"
   ]
  },
  {
   "cell_type": "code",
   "execution_count": 94,
   "metadata": {},
   "outputs": [
    {
     "name": "stdout",
     "output_type": "stream",
     "text": [
      "\u001b[36mGNUPLOT (default) -> gnuplot> plot    $data0 with lines notit lw 2 lc rgb 'black'\u001b[39m\n",
      "\u001b[36mGNUPLOT (default) ->                                                             ^\u001b[39m\n",
      "\u001b[36mGNUPLOT (default) ->          line 318592: all points y value undefined!\u001b[39m\n"
     ]
    }
   ],
   "source": [
    "@gp 1000000X1 P1[1,:] \"with lines notit lw 2 lc rgb 'black'\""
   ]
  },
  {
   "cell_type": "code",
   "execution_count": 17,
   "metadata": {},
   "outputs": [],
   "source": [
    "@gsp 1000Z1 1000000X1 P1 \"w pm3d notit\""
   ]
  },
  {
   "cell_type": "code",
   "execution_count": 172,
   "metadata": {},
   "outputs": [
    {
     "name": "stdout",
     "output_type": "stream",
     "text": [
      "\u001b[36mGNUPLOT (default) -> gnuplot> plot  \u001b[39m\n",
      "\u001b[36mGNUPLOT (default) ->                ^\u001b[39m\n",
      "\u001b[36mGNUPLOT (default) ->          line 680746: function to plot expected\u001b[39m\n"
     ]
    }
   ],
   "source": [
    "@gp \"set title 'Wavefun before the slits'\" xlab=\"Z, mkm\" ylab=\"X, mkm\"\n",
    "@gp :- 1000Z1 1000000X1 P1 \"w image notit\""
   ]
  },
  {
   "cell_type": "markdown",
   "metadata": {},
   "source": [
    "## After slits\n",
    "\n",
    "$$\n",
    "K_{x}\\left(x_{\\beta}, t_{\\beta} ; x_{\\alpha}, t_{\\alpha}\\right)=\\left(\\frac{m}{2 i \\pi \\hbar\\left(t_{\\beta}-t_{\\alpha}\\right)}\\right)^{1 / 2} \\exp \\frac{i m}{\\hbar}\\left(\\frac{\\left(x_{\\beta}-x_{\\alpha}\\right)^{2}}{2\\left(t_{\\beta}-t_{\\alpha}\\right)}\\right)\n",
    "$$\n",
    "\n",
    "$$\n",
    "\\psi_{x}\\left(x, t ; k_{0 x}, k_{0 z}, z_{0}\\right)=\\psi_{A}+\\psi_{B}\n",
    "$$\n",
    "$$\n",
    "\\begin{aligned}\n",
    "\\psi_{A} &=\\int_{A} K_{x}\\left(x, t ; x_{a}, t_{1}\\left(v_{0 z}, z_{0}\\right)\\right) \\psi_{x}\\left(x_{a}, t_{1}\\left(v_{0 z}, z_{0}\\right) ; k_{0 x}\\right) d x_{a} \\\\\n",
    "\\psi_{B} &=\\int_{B} K_{x}\\left(x, t ; x_{b}, t_{1}\\left(v_{0 z}, z_{0}\\right)\\right) \\psi_{x}\\left(x_{b}, t_{1}\\left(v_{0 z}, z_{0}\\right) ; k_{0 x}\\right) d x_{b}\n",
    "\\end{aligned}\n",
    "$$\n",
    "\n",
    "где $\\psi_{x}\\left(x_{a}, t_{1}\\left(v_{0 z}, z_{0}\\right) ; k_{0 x}\\right)$ и $\\psi_{x}\\left(x_{b}, t_{1}\\left(v_{0 z}, z_{0}\\right) ; k_{0 x}\\right)$ плотность вероятности равна\n",
    "$$\n",
    "\\rho_{x}\\left(x, t ; k_{0 z}, z_{0}\\right)=\\int_{-\\infty}^{+\\infty}\\left(2 \\pi \\tau^{2}\\right)^{-1 / 2} \\exp \\left(-\\frac{k_{0 x}^{2}}{2 \\tau^{2}}\\right)\\left|\\psi_{x}\\left(x, t ; k_{0 x}, k_{0 z}, z_{0}\\right)\\right|^{2} d k_{0 x}\n",
    "$$\n",
    "Время прихода $t_{2}$ центра волнового пакета на детектирующую пластину зависит от $z_{0}$ и $v_{0 z} .$ У нас есть $t_{2}=\\sqrt {\\frac{2\\left(l_{1}+l_{2} - z_{0}\\right)} {g}+\\left(\\frac{v_{0} z}{g}\\right)^{2}}-\\frac{v_{0 z}}{g} .$ Для $z_{0}=0$ и $v_{0 z}=0, t_{2}=\\sqrt {\\frac{2\\left(l_{1}+l_{2}\\right)}{g}}=196 \\mathrm{ms}$\n",
    "и атомы ускоряются, до $v_{z 2}=g t_{2}=1.93 \\mathrm{m} / \\mathrm{s}$"
   ]
  },
  {
   "cell_type": "code",
   "execution_count": 36,
   "metadata": {},
   "outputs": [
    {
     "data": {
      "text/plain": [
       "ρₓ (generic function with 1 method)"
      ]
     },
     "execution_count": 36,
     "metadata": {},
     "output_type": "execute_result"
    }
   ],
   "source": [
    "function ρₓ(xᵢ, tᵢ) \n",
    "    \n",
    "    Kₓ(xb, tb, xa, ta) = sqrt( m/(2im*π*ħ*(tb-ta)) ) * exp( im*m*(xb-xa)^2 / (2ħ*(tb-ta)) )\n",
    "    \n",
    "    function subintrho(k) \n",
    "\n",
    "        ψₓ(x, t) = ( 2π*s₀(t) )^-0.25 * exp( -(x-ħ*k*t/m)^2 / (4σ₀*s₀(t)) + im*k*(x-ħ*k*t/m) )\n",
    "        subintpsi(x) = Kₓ(xᵢ, tᵢ, x, tf1) * ψₓ(x, tf1)\n",
    "\n",
    "        ψa = trapez(subintpsi, a1, a2, 200)\n",
    "        ψb = trapez(subintpsi, b1, b2, 200)\n",
    "\n",
    "        exp( -k^2 / (2σv^2) ) * abs2(ψa + ψb)\n",
    "    end\n",
    "    \n",
    "    trapez(subintrho, -10σk, 10σk, 20) / sqrt( 2π*σv^2 )\n",
    "end"
   ]
  },
  {
   "cell_type": "code",
   "execution_count": 7,
   "metadata": {},
   "outputs": [
    {
     "data": {
      "text/plain": [
       "0.19639610121239315"
      ]
     },
     "execution_count": 7,
     "metadata": {},
     "output_type": "execute_result"
    }
   ],
   "source": [
    "t₂(v, z) = sqrt( 2*(l1+l2-z)/g + (v/g)^2 ) - v/g\n",
    "t₂(0, 0) # 196 ms"
   ]
  },
  {
   "cell_type": "code",
   "execution_count": 8,
   "metadata": {},
   "outputs": [
    {
     "data": {
      "text/plain": [
       "0.19639610121239315"
      ]
     },
     "execution_count": 8,
     "metadata": {},
     "output_type": "execute_result"
    }
   ],
   "source": [
    "tf2 = t₂(v₀[3], 0) # s # время достижения второго экрана"
   ]
  },
  {
   "cell_type": "code",
   "execution_count": 11,
   "metadata": {},
   "outputs": [
    {
     "data": {
      "text/plain": [
       "0.1245399698154478:0.0007258195090600539:0.19639610121239315"
      ]
     },
     "execution_count": 11,
     "metadata": {},
     "output_type": "execute_result"
    }
   ],
   "source": [
    "#X2 = range(-10, stop = 10, length = 200)*1e-6\n",
    "X2 = range(-800, stop = 800, length = 200)*1e-6\n",
    "Z2 = range(l1, stop = l2, length = 100)\n",
    "Cron2 = range(tf1, stop = tf2, length = 100) ## +0.001 "
   ]
  },
  {
   "cell_type": "code",
   "execution_count": 40,
   "metadata": {},
   "outputs": [
    {
     "name": "stdout",
     "output_type": "stream",
     "text": [
      "103.760820 seconds (1.52 G allocations: 32.844 GiB, 4.49% gc time)\n"
     ]
    }
   ],
   "source": [
    "@time P2 = [ ρₓ(x, t) for t in Cron2, x in X2 ];"
   ]
  },
  {
   "cell_type": "code",
   "execution_count": 42,
   "metadata": {
    "scrolled": true
   },
   "outputs": [],
   "source": [
    "@gp 1000000X2 P2[1,:] \"with lines notit lw 2 lc rgb 'black'\""
   ]
  },
  {
   "cell_type": "code",
   "execution_count": 41,
   "metadata": {
    "scrolled": true
   },
   "outputs": [],
   "source": [
    "@gsp 1000Z2 1000000X2 P2 \"w pm3d notit\""
   ]
  },
  {
   "cell_type": "markdown",
   "metadata": {},
   "source": [
    "# + speed, - readability"
   ]
  },
  {
   "cell_type": "code",
   "execution_count": 210,
   "metadata": {},
   "outputs": [
    {
     "data": {
      "text/plain": [
       "0.1261680123761121"
      ]
     },
     "execution_count": 210,
     "metadata": {},
     "output_type": "execute_result"
    }
   ],
   "source": [
    "t2mm = sqrt( 2*(l1+2e-3)/g + (v₀[3]/g)^2 ) - v₀[3]/g"
   ]
  },
  {
   "cell_type": "code",
   "execution_count": 56,
   "metadata": {},
   "outputs": [
    {
     "data": {
      "text/plain": [
       "0.1245399698154478:1.6444874350144472e-5:0.1261680123761121"
      ]
     },
     "execution_count": 56,
     "metadata": {},
     "output_type": "execute_result"
    }
   ],
   "source": [
    "Cron2mm = range(tf1, stop = t2mm, length = 100)"
   ]
  },
  {
   "cell_type": "code",
   "execution_count": 72,
   "metadata": {},
   "outputs": [
    {
     "data": {
      "text/plain": [
       "fastamazafaka (generic function with 1 method)"
      ]
     },
     "execution_count": 72,
     "metadata": {},
     "output_type": "execute_result"
    }
   ],
   "source": [
    "function fastamazafaka()\n",
    "    \n",
    "    A = ( 2π*s₀(tf1) )^-0.25\n",
    "    \n",
    "    function ρₓ(xᵢ, tᵢ) \n",
    "        \n",
    "        B = sqrt( m/(2im*π*ħ*(tᵢ-tf1)) )\n",
    "    \n",
    "        Kₓ(xb, tb, xa, ta) = exp( im*m*(xb-xa)^2 / (2ħ*(tb-ta)) )\n",
    "\n",
    "        function subintrho(k) \n",
    "\n",
    "            ψₓ(x, t) = exp( -(x-ħ*k*t/m)^2 / (4σ₀*s₀(t)) + im*k*(x-ħ*k*t/m) )\n",
    "            subintpsi(x) = Kₓ(xᵢ, tᵢ, x, tf1) * ψₓ(x, tf1)\n",
    "\n",
    "            ψa = trapez(subintpsi, a1, a2, 200)\n",
    "            ψb = trapez(subintpsi, b1, b2, 200)\n",
    "\n",
    "            exp( -k^2 / (2σv^2) ) * abs2(ψa + ψb)\n",
    "        end\n",
    "\n",
    "        abs2(A * B) * trapez(subintrho, -σk, σk, 20) / sqrt( 2π*σv^2 )\n",
    "    end\n",
    "\n",
    "    P3 = [ ρₓ(x, t) for t in Cron2, x in X2 ];\n",
    "end"
   ]
  },
  {
   "cell_type": "code",
   "execution_count": 73,
   "metadata": {
    "scrolled": true
   },
   "outputs": [
    {
     "name": "stdout",
     "output_type": "stream",
     "text": [
      " 49.394490 seconds (1.52 G allocations: 32.801 GiB, 5.72% gc time)\n"
     ]
    }
   ],
   "source": [
    "@time P3 = fastamazafaka();"
   ]
  },
  {
   "cell_type": "code",
   "execution_count": 74,
   "metadata": {},
   "outputs": [],
   "source": [
    "P3 /= maximum(P3[4:end,:]);"
   ]
  },
  {
   "cell_type": "code",
   "execution_count": 185,
   "metadata": {
    "scrolled": true
   },
   "outputs": [
    {
     "name": "stdout",
     "output_type": "stream",
     "text": [
      "\u001b[36mGNUPLOT (default) -> gnuplot> plot  \u001b[39m\n",
      "\u001b[36mGNUPLOT (default) ->                ^\u001b[39m\n",
      "\u001b[36mGNUPLOT (default) ->          line 761825: function to plot expected\u001b[39m\n"
     ]
    }
   ],
   "source": [
    "@gp \"set title 'Wavefun after the slits'\" xlab=\"t, s\" ylab=\"X, mkm\"\n",
    "@gp :- Cron2[4:end] 1000000X2 P3[4:end,:] \"w image notit\""
   ]
  },
  {
   "cell_type": "code",
   "execution_count": 50,
   "metadata": {},
   "outputs": [],
   "source": [
    "@gsp P3[2:end,:] \"w pm3d notit\""
   ]
  },
  {
   "cell_type": "markdown",
   "metadata": {},
   "source": [
    "# Trajectories\n",
    "## Before slits\n",
    "\n",
    "$$\n",
    "z(t)=v_{0 z} t+\\frac{1}{2} g t^{2}+z_{0} \\frac{\\sigma_{z}(t)}{\\sigma_{z}}\n",
    "$$\n",
    "\n",
    "$$\n",
    "\\begin{aligned}\n",
    "x(t) &=v_{0 x} t+\\sqrt{x_{0}^{2}+y_{0}^{2}} \\frac{\\sigma_{0}(t)}{\\sigma_{0}} \\cos \\varphi(t) \\\\\n",
    "y(t) &=v_{0 y} t+\\sqrt{x_{0}^{2}+y_{0}^{2}} \\frac{\\sigma_{0}(t)}{\\sigma_{0}} \\sin \\varphi(t)\n",
    "\\end{aligned}\n",
    "$$\n",
    "\n",
    "$\\sigma_{0}^{2}(t)=\\sigma_{0}^{2}+\\left(\\frac{\\hbar t}{2 m \\sigma_{0}}\\right)^{2} .$\n",
    "\n",
    "$\\varphi(t)=\\varphi_{0}+\\arctan \\left(-\\frac{\\hbar t}{2 m \\sigma_{0}^{2}}\\right)$\n",
    "\n",
    "$ \\cos \\left(\\varphi_{0}\\right)=\\frac{x_{0}}{\\sqrt{x_{0}^{2}+y_{0}^{2}}}, $ \n",
    "\n",
    "$\\sin \\left(\\varphi_{0}\\right)=\\frac{y_{0}}{\\sqrt{x_{0}^{2}+y_{0}^{2}} } .$ \n",
    "\n",
    "$\\sin(\\arctan x) = \\frac{x}{\\sqrt{1+x^2}}$\n",
    "\n",
    "$\\cos(\\arctan x) = \\frac{1}{\\sqrt{1+x^2}}$\n",
    "\n",
    "$\\cos(a+b) = \\cos a\\cos b - \\sin a\\sin b$\n",
    "\n",
    "$\\sin(a+b) = \\sin a\\cos b + \\cos a\\sin b$"
   ]
  },
  {
   "cell_type": "code",
   "execution_count": 117,
   "metadata": {},
   "outputs": [
    {
     "data": {
      "text/plain": [
       "xbs (generic function with 1 method)"
      ]
     },
     "execution_count": 117,
     "metadata": {},
     "output_type": "execute_result"
    }
   ],
   "source": [
    "function xbs(t, xo, yo, vo)\n",
    "    \n",
    "    cosϕ = xo / sqrt( xo^2 + yo^2 )\n",
    "    sinϕ = yo / sqrt( xo^2 + yo^2 )\n",
    "    atnx = -ħ*t / (2m*σ₀^2)\n",
    "    sinatnx = atnx / sqrt( atnx^2 + 1)\n",
    "    cosatnx =    1 / sqrt( atnx^2 + 1)\n",
    "    cosϕt = cosϕ * cosatnx - sinϕ * sinatnx\n",
    "    #sinϕt = sinϕ*cosatnx + cosϕ*sinatnx\n",
    "    \n",
    "    σ₀t = sqrt( σ₀^2 + ( ħ*t / (2*m*σ₀) )^2 )\n",
    "    \n",
    "    vo*t + sqrt(xo^2 + yo^2) * σ₀t/σ₀ * cosϕt\n",
    "end"
   ]
  },
  {
   "cell_type": "code",
   "execution_count": 77,
   "metadata": {},
   "outputs": [
    {
     "name": "stdout",
     "output_type": "stream",
     "text": [
      "\u001b[36mGNUPLOT (default) -> gnuplot> plot  \u001b[39m\n",
      "\u001b[36mGNUPLOT (default) ->                ^\u001b[39m\n",
      "\u001b[36mGNUPLOT (default) ->          line 298308: function to plot expected\u001b[39m\n",
      " 18.081040 seconds (391.92 k allocations: 20.324 MiB, 0.08% gc time)\n"
     ]
    }
   ],
   "source": [
    "@gp \"set title 'Trajectories before slits'\" xlab=\"t, s\" ylab=\"X, mkm\" # \"set yrange [-10:10]\"\n",
    "\n",
    "@time for i in 1:80\n",
    "    \n",
    "    x0 = randn()*σ₀\n",
    "    y0 = randn()*σ₀\n",
    "    v0 = randn()*σv*1e-4\n",
    "    \n",
    "    prtclᵢ = [ xbs(t,x0,y0,v0) for t in Cron1 ]\n",
    "    \n",
    "    @gp :- Cron1 1000000prtclᵢ \"with lines notit lw 2 lc rgb 'black'\"\n",
    "    # slits -4-> -2, 2->4 mkm\n",
    "end"
   ]
  },
  {
   "cell_type": "code",
   "execution_count": null,
   "metadata": {},
   "outputs": [],
   "source": []
  },
  {
   "cell_type": "markdown",
   "metadata": {},
   "source": [
    "## After slits\n",
    "\n",
    "the velocity $v_{x}(x, t)=\\frac{\\hbar}{m} \\frac{I m\\left(\\frac{\\partial \\psi}{\\partial x} \\psi^{*}\\right)}{\\psi \\psi^{*}}$ . We obtain:\n",
    "\n",
    "$$\n",
    "v_{x}(x, t)=\\frac{1}{t-t_{1}}\\left[x+\\frac{-1}{2\\left(\\alpha^{2}+\\beta_{t}^{2}\\right)}\\left(\\beta_{t} I m\\left(\\frac{C(x, t)}{H(x, t)}\\right)+\\alpha \\operatorname{Re}\\left(\\frac{C(x, t)}{H(x, t)}\\right)-\\beta_{t} \\gamma_{x, t}\\right)\\right]\n",
    "$$\n",
    "with\n",
    "$$\n",
    "\\begin{array}{c}\n",
    "H(x, t)=\\int_{X_{A}-b}^{X_{A}+b} f(x, u, t) d u+\\int_{X_{B}-b}^{X_{B}+b} f(x, u, t) d u \\\\\n",
    "C(x, t)=[f(x, u, t)]_{u=X_{A}-b}^{u=X_{A}+b}+[f(x, u, t)]_{u=X_{B}-b}^{u=X_{B}+b}\n",
    "\\end{array}\n",
    "$$\n",
    "where $X_{A}$ and $X_{B}$ are the centers of the two slits, and where\n",
    "$$\n",
    "f(x, u, t)=\\exp \\left[\\left(\\alpha+i \\beta_{t}\\right) u^{2}+i \\gamma_{x, t} u\\right]\n",
    "$$\n",
    "$$\n",
    "\\begin{array}{l}\n",
    "\\alpha=-\\frac{1}{4 \\sigma_{0}^{2}\\left(1+\\left(\\frac{\\hbar t_{1}}{2 m \\sigma_{0}^{2}}\\right)^{2}\\right)} \\\\\n",
    "\\beta_{t}=\\frac{m}{2 \\hbar}\\left(\\frac{1}{t-t_{1}}+\\frac{1}{t_{1}\\left(1+\\left(\\frac{2 m \\sigma_{0}^{2}}{\\hbar t_{1}}\\right)^{2}\\right)}\\right) \\\\\n",
    "\\gamma_{x, t}=-\\frac{m x}{\\hbar\\left(t-t_{1}\\right)}\n",
    "\\end{array}\n",
    "$$\n"
   ]
  },
  {
   "cell_type": "code",
   "execution_count": 25,
   "metadata": {},
   "outputs": [
    {
     "data": {
      "text/plain": [
       "myrng (generic function with 1 method)"
      ]
     },
     "execution_count": 25,
     "metadata": {},
     "output_type": "execute_result"
    }
   ],
   "source": [
    "function Uₓ(t, x)\n",
    "    \n",
    "    γ = -m*x / ( ħ*(t-tf1) )\n",
    "    β = m/(2ħ) * ( 1/(t-tf1) + 1 / ( tf1*( 1 + (2m*σ₀^2 / (ħ*tf1) )^2 ) ) )\n",
    "    α = -( 4σ₀^2 * ( 1 + ( ħ*tf1 / (2m*σ₀^2) )^2 ) )^-1\n",
    "    \n",
    "    f(x, u, t) = exp( ( α + im*β )*u^2 + im*γ*u )\n",
    "    \n",
    "    C = f(x, a2, t) - f(x, a1, t) + f(x, b2, t) - f(x, b1, t)\n",
    "    H = trapez( u-> f(x, u, t) , a1, a2, 400) + trapez( u-> f(x, u, t) , b1, b2, 400)\n",
    "    \n",
    "    return 1/(t-tf1) * ( x - 0.5/(α^2 + β^2) * ( β*imag(C/H) + α*real(C/H) - β*γ ) )\n",
    "end\n",
    "\n",
    "init() = bitrand()[1] ? rand()*(b2 - b1) + b1 : rand()*(a2 - a1) + a1\n",
    "myrng(a, b, N) = collect( range(a, stop = b, length = N ÷ 2) )"
   ]
  },
  {
   "cell_type": "code",
   "execution_count": null,
   "metadata": {},
   "outputs": [],
   "source": []
  },
  {
   "cell_type": "code",
   "execution_count": 212,
   "metadata": {},
   "outputs": [
    {
     "data": {
      "text/plain": [
       "366"
      ]
     },
     "execution_count": 212,
     "metadata": {},
     "output_type": "execute_result"
    }
   ],
   "source": [
    "n1 = 1\n",
    "xx = 0\n",
    "ξ = 0.00001\n",
    "while xx < Cron2mm[end]-Cron2mm[1]\n",
    "    n1+=1\n",
    "    xx += (ξ*n1)^2 \n",
    "end\n",
    "n1"
   ]
  },
  {
   "cell_type": "code",
   "execution_count": 213,
   "metadata": {},
   "outputs": [
    {
     "data": {
      "text/plain": [
       "(1.0000000000000002e-10, 1.3395600000000004e-5)"
      ]
     },
     "execution_count": 213,
     "metadata": {},
     "output_type": "execute_result"
    }
   ],
   "source": [
    "steps1 = [ (ξ*i)^2 for i in 1:n1 ]\n",
    "steps1[1], steps1[end]"
   ]
  },
  {
   "cell_type": "code",
   "execution_count": 214,
   "metadata": {},
   "outputs": [
    {
     "data": {
      "text/plain": [
       "(0.1245399699154478, 0.12618093691544777)"
      ]
     },
     "execution_count": 214,
     "metadata": {},
     "output_type": "execute_result"
    }
   ],
   "source": [
    "Cronadapt2mm = accumulate(+, steps1, init = Cron2mm[1] )\n",
    "Cronadapt2mm[1], Cronadapt2mm[end]"
   ]
  },
  {
   "cell_type": "code",
   "execution_count": null,
   "metadata": {},
   "outputs": [],
   "source": []
  },
  {
   "cell_type": "code",
   "execution_count": 26,
   "metadata": {},
   "outputs": [
    {
     "data": {
      "text/plain": [
       "modelsolver (generic function with 3 methods)"
      ]
     },
     "execution_count": 26,
     "metadata": {},
     "output_type": "execute_result"
    }
   ],
   "source": [
    "function modelsolver(Np = 10, Nt = 100)\n",
    "    \n",
    "    #xo = [ init() for i = 1:Np ] # случайные\n",
    "    xo = vcat( myrng(a2, a1, Np), myrng(b1, b2, Np) ) # равномерно\n",
    "    \n",
    "    xpath = zeros(Nt, Np)\n",
    "    xpath[1,:] = xo\n",
    "    \n",
    "    for i in 2:Nt, j in 1:Np\n",
    "        xpath[i,j] = rk4(Uₓ, Cronadapt[i], xpath[i-1,j], steps[i] )\n",
    "    end\n",
    "    \n",
    "    xpath\n",
    "end"
   ]
  },
  {
   "cell_type": "code",
   "execution_count": 27,
   "metadata": {
    "scrolled": false
   },
   "outputs": [
    {
     "name": "stdout",
     "output_type": "stream",
     "text": [
      "  3.834920 seconds (8.15 M allocations: 163.666 MiB, 0.59% gc time)\n"
     ]
    }
   ],
   "source": [
    "@time paths = modelsolver(20, n);"
   ]
  },
  {
   "cell_type": "code",
   "execution_count": 28,
   "metadata": {},
   "outputs": [
    {
     "name": "stdout",
     "output_type": "stream",
     "text": [
      "\u001b[36mGNUPLOT (default) -> gnuplot> plot  \u001b[39m\n",
      "\u001b[36mGNUPLOT (default) ->                ^\u001b[39m\n",
      "\u001b[36mGNUPLOT (default) ->          line 4114: function to plot expected\u001b[39m\n"
     ]
    }
   ],
   "source": [
    "@gp \"set title 'Trajectories after the slits'\" xlab=\"t, s\" ylab=\"X, mkm\" \"set yrange [-800:800]\"\n",
    "for i in 1:size(paths, 2)\n",
    "    @gp :- Cronadapt 1e6paths[:,i] \"with lines notit lw 1 lc rgb 'black'\"\n",
    "end"
   ]
  },
  {
   "cell_type": "markdown",
   "metadata": {},
   "source": [
    "# 3D"
   ]
  },
  {
   "cell_type": "code",
   "execution_count": 12,
   "metadata": {},
   "outputs": [
    {
     "data": {
      "text/plain": [
       "1292"
      ]
     },
     "execution_count": 12,
     "metadata": {},
     "output_type": "execute_result"
    }
   ],
   "source": [
    "n = 1\n",
    "xx = 0\n",
    "ξ = 1e-5\n",
    "while xx < Cron2[end]-Cron2[1]\n",
    "    n+=1\n",
    "    xx += (ξ*n)^2 \n",
    "end\n",
    "n"
   ]
  },
  {
   "cell_type": "code",
   "execution_count": 13,
   "metadata": {},
   "outputs": [
    {
     "data": {
      "text/plain": [
       "(1.0000000000000002e-10, 0.00016692640000000002)"
      ]
     },
     "execution_count": 13,
     "metadata": {},
     "output_type": "execute_result"
    }
   ],
   "source": [
    "steps = [ (ξ*i)^2 for i in 1:n ]\n",
    "steps[1], steps[end]"
   ]
  },
  {
   "cell_type": "code",
   "execution_count": 14,
   "metadata": {},
   "outputs": [
    {
     "data": {
      "text/plain": [
       "(0.1245399699154478, 0.1965130908154476)"
      ]
     },
     "execution_count": 14,
     "metadata": {},
     "output_type": "execute_result"
    }
   ],
   "source": [
    "Cronadapt = accumulate(+, steps, init = Cron2[1] )\n",
    "Cronadapt[1], Cronadapt[end]"
   ]
  },
  {
   "cell_type": "code",
   "execution_count": 15,
   "metadata": {},
   "outputs": [
    {
     "data": {
      "text/plain": [
       "yas (generic function with 1 method)"
      ]
     },
     "execution_count": 15,
     "metadata": {},
     "output_type": "execute_result"
    }
   ],
   "source": [
    "function yas(t, xo, yo, vo)\n",
    "    \n",
    "    cosϕ = xo / sqrt( xo^2 + yo^2 )\n",
    "    sinϕ = yo / sqrt( xo^2 + yo^2 )\n",
    "    atnx = -ħ*t / (2m*σ₀^2)\n",
    "    sinatnx = atnx / sqrt( atnx^2 + 1)\n",
    "    cosatnx =    1 / sqrt( atnx^2 + 1)\n",
    "    #cosϕt = cosϕ * cosatnx - sinϕ * sinatnx\n",
    "    sinϕt = sinϕ*cosatnx + cosϕ*sinatnx\n",
    "    \n",
    "    σ₀t = sqrt( σ₀^2 + ( ħ*t / (2*m*σ₀) )^2 )\n",
    "    \n",
    "    vo*t + sqrt(xo^2 + yo^2) * σ₀t/σ₀ * sinϕt\n",
    "end"
   ]
  },
  {
   "cell_type": "code",
   "execution_count": 29,
   "metadata": {},
   "outputs": [
    {
     "data": {
      "text/plain": [
       "modelsolver2 (generic function with 2 methods)"
      ]
     },
     "execution_count": 29,
     "metadata": {},
     "output_type": "execute_result"
    }
   ],
   "source": [
    "function modelsolver2(Np = 10)\n",
    "    \n",
    "    Nt = length(Cronadapt)\n",
    "    xo = [ init() for i = 1:Np ]\n",
    "    #xo = vcat( myrng(a2, a1, Np), myrng(b1, b2, Np) )\n",
    "    \n",
    "    xcoord = copy(xo)\n",
    "    ycoord = zeros(Np)\n",
    "    \n",
    "    for i in 2:Nt, j in 1:Np\n",
    "        xcoord[j] = rk4(Uₓ, Cronadapt[i], xcoord[j], steps[i] )\n",
    "    end\n",
    "    \n",
    "    for (i, x) in enumerate(xo)\n",
    "        \n",
    "        y0 = randn()*yh\n",
    "        v0 = 0 #randn()*σv*1e-4\n",
    "        \n",
    "        ycoord[i] = yas(Cronadapt[end], x, y0, v0)\n",
    "    end\n",
    "    \n",
    "    xcoord, ycoord\n",
    "end"
   ]
  },
  {
   "cell_type": "code",
   "execution_count": 33,
   "metadata": {},
   "outputs": [
    {
     "name": "stdout",
     "output_type": "stream",
     "text": [
      "345.404281 seconds (776.54 M allocations: 14.188 GiB, 0.44% gc time)\n"
     ]
    }
   ],
   "source": [
    "@time X, Y = modelsolver2(2000);"
   ]
  },
  {
   "cell_type": "code",
   "execution_count": 35,
   "metadata": {},
   "outputs": [
    {
     "name": "stdout",
     "output_type": "stream",
     "text": [
      "\u001b[36mGNUPLOT (default) -> gnuplot> plot  \u001b[39m\n",
      "\u001b[36mGNUPLOT (default) ->                ^\u001b[39m\n",
      "\u001b[36mGNUPLOT (default) ->          line 32177: function to plot expected\u001b[39m\n"
     ]
    }
   ],
   "source": [
    "@gp \"set title 'Impacts on the screen'\" xlab=\"X, mm\" ylab=\"Y, mm\"# \"set xrange [-1:1]\"\n",
    "@gp :- 1000X 1000Y \"with points notit pt 7 ps 0.5 lc rgb 'black'\""
   ]
  },
  {
   "cell_type": "code",
   "execution_count": null,
   "metadata": {},
   "outputs": [],
   "source": []
  },
  {
   "cell_type": "code",
   "execution_count": null,
   "metadata": {},
   "outputs": [],
   "source": []
  },
  {
   "cell_type": "code",
   "execution_count": null,
   "metadata": {},
   "outputs": [],
   "source": []
  },
  {
   "cell_type": "code",
   "execution_count": null,
   "metadata": {},
   "outputs": [],
   "source": []
  },
  {
   "cell_type": "markdown",
   "metadata": {},
   "source": [
    "## Распараллелить"
   ]
  },
  {
   "cell_type": "markdown",
   "metadata": {},
   "source": [
    "https://habr.com/ru/post/455846/"
   ]
  },
  {
   "cell_type": "code",
   "execution_count": null,
   "metadata": {},
   "outputs": [],
   "source": [
    "using Distributed\n",
    "addprocs(2)"
   ]
  },
  {
   "cell_type": "code",
   "execution_count": null,
   "metadata": {},
   "outputs": [],
   "source": []
  },
  {
   "cell_type": "code",
   "execution_count": null,
   "metadata": {},
   "outputs": [],
   "source": []
  },
  {
   "cell_type": "code",
   "execution_count": null,
   "metadata": {},
   "outputs": [],
   "source": []
  },
  {
   "cell_type": "code",
   "execution_count": null,
   "metadata": {},
   "outputs": [],
   "source": [
    "# animation\n",
    "frame = 0\n",
    "for i in 1:80\n",
    "    global frame += 1\n",
    "    @gp :- frame x psi[:, i] \"with lines notit lw 2 lc rgb 'black'\" :-\n",
    "end\n",
    "@gp\n",
    "\n",
    "\n",
    "save(term=\"gif animate size 480,360 delay 15\", output=\"aanimation.gif\")"
   ]
  }
 ],
 "metadata": {
  "kernelspec": {
   "display_name": "Julia 1.3.1",
   "language": "julia",
   "name": "julia-1.3"
  },
  "language_info": {
   "file_extension": ".jl",
   "mimetype": "application/julia",
   "name": "julia",
   "version": "1.3.1"
  }
 },
 "nbformat": 4,
 "nbformat_minor": 2
}
