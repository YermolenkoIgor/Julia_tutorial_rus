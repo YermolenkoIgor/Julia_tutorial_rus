{
 "cells": [
  {
   "cell_type": "code",
   "execution_count": null,
   "metadata": {},
   "outputs": [],
   "source": [
    "using Plots, LaTeXStrings#, DifferentialEquations, Sundials"
   ]
  },
  {
   "cell_type": "markdown",
   "metadata": {},
   "source": [
    "\\begin{equation}\n",
    "\\begin{split}\n",
    "\\Omega_m  &=  0.315 \\pm 0.007 \\\\\n",
    "\\Omega_\\Lambda  &= 0.6847 \\pm 0.0073 \\\\\n",
    "\\Omega_r &= 9.4 \\cdot 10^{-5} \\\\\n",
    "\\mid \\Omega_\\kappa \\mid  &\\leq 0.01 \\\\\n",
    "H_0 [\\mathrm{km}\\text{ }\\mathrm{s}^{-1} \\mathrm{Mpc}^{-1}] &=  67.4 \\pm 0.5  .\n",
    "\\end{split}\n",
    "\\end{equation}"
   ]
  },
  {
   "cell_type": "code",
   "execution_count": null,
   "metadata": {},
   "outputs": [],
   "source": [
    "H0 = 70 # Hubble constant H = 70 km/s/Mpc\n",
    "Mpc = 3.085677581e19 # km\n",
    "Gyr = 3.1536e16 # second\n",
    "H₀ = H0*Gyr/Mpc # in the units of 1/Gyr"
   ]
  },
  {
   "cell_type": "markdown",
   "metadata": {},
   "source": [
    "$$\n",
    "\\Big(\\frac{\\dot{a}}{a}\\Big)^2 = H^2 = H_0^2 \\Big{[} \\Omega_{r, 0}\\Big(\\frac{a_0}{a}\\Big)^{4} + \\Omega_{m, 0} \\Big(\\frac{a_0}{a}\\Big)^{3} + \\Omega_{\\kappa, 0} \\Big(\\frac{a_0}{a}\\Big)^{2} + \\Omega_{\\Lambda, 0}\\Big{]} ,\n",
    "$$\n",
    "\n",
    "\\begin{equation}\n",
    "H_0dt = \\int_0^{a_0} \\frac{da}{\\Big{[} \\Omega_{r, 0}a^{-2} + \\Omega_{m, 0}a^{-1} + \\Omega_{\\kappa, 0} + \\Omega_{\\Lambda, 0}a^2\\Big{]}^{1/2}},\n",
    "\\end{equation}"
   ]
  },
  {
   "cell_type": "code",
   "execution_count": null,
   "metadata": {},
   "outputs": [],
   "source": [
    "function Friedmann(a,m,r,l)\n",
    "    k = 1.0 - (m + r + l)\n",
    "    Omegas = r/(a*a) + m/a + l*a*a + k\n",
    "    return 1.0 / ( H₀*sqrt(Omegas) ) \n",
    "end\n",
    "\n",
    "function EmptyUniverse(t)\n",
    "    a_e = H₀*t\n",
    "    age_e = 1/H₀\n",
    "    return a_e, age_e\n",
    "end"
   ]
  },
  {
   "cell_type": "markdown",
   "metadata": {},
   "source": [
    "https://ru.wikipedia.org/wiki/Формула_Кардано"
   ]
  },
  {
   "cell_type": "code",
   "execution_count": null,
   "metadata": {},
   "outputs": [],
   "source": [
    "function real_cardano(p,q)\n",
    "    Q = complex( (p/3)^3 + (0.5q)^2 )\n",
    "    #println(Q)\n",
    "    α = ( -0.5q + sqrt(Q) )^(1/3)\n",
    "    β = ( -0.5q - sqrt(Q) )^(1/3)\n",
    "    y1 = α + β\n",
    "    y2 = -0.5(α+β) + 0.5*im*(α-β)*sqrt(3)\n",
    "    y3 = -0.5(α+β) - 0.5*im*(α-β)*sqrt(3)\n",
    "    ret = Inf\n",
    "    Y = [y1, y2, y3]\n",
    "    #println(Y)\n",
    "    Y[findall(isreal, Y)] |> real |> maximum\n",
    "end"
   ]
  },
  {
   "cell_type": "markdown",
   "metadata": {},
   "source": [
    "$$\n",
    "\\Omega_{m, 0}a^{-1} + \\Omega_{\\kappa, 0} + \\Omega_{\\Lambda, 0}a^2 = 0\n",
    "$$\n",
    "\n",
    "$\\Omega_0 = \\sum\\Omega_i$\n",
    "\n",
    "$$\n",
    "a^3 + \\frac{\\Omega_{\\kappa, 0}}{\\Omega_{\\Lambda, 0}}a + \\frac{\\Omega_{m, 0}}{\\Omega_{\\Lambda, 0}} = 0\n",
    "$$"
   ]
  },
  {
   "cell_type": "code",
   "execution_count": null,
   "metadata": {},
   "outputs": [],
   "source": [
    "function big_bounce(a, m, r, l)\n",
    "    \n",
    "    n = 5000 # Step number\n",
    "    k = 1.0 - (m + l)\n",
    "    b = real_cardano(k/l, m/l)\n",
    "    dx = (b-a)/n # Step size\n",
    "    \n",
    "    x = zeros(n)\n",
    "    y = zeros(n)\n",
    "    z = zeros(n)\n",
    "    for i in 1:n\n",
    "        x[i] = a + (i-1)*dx\n",
    "        y[i] = Friedmann(x[i],m,r,l)\n",
    "        z[i] = 0.5*dx * (2*sum(y) - y[1] - y[n])\n",
    "    end\n",
    "    return [x; reverse(x)], [z.-z[end];-reverse(z).+z[end]]\n",
    "end"
   ]
  },
  {
   "cell_type": "code",
   "execution_count": null,
   "metadata": {},
   "outputs": [],
   "source": [
    "function Trapezoidal(a,b,m,r,l)\n",
    "    \n",
    "    n = 20000 # Step number\n",
    "    dx = (b-a)/n # Step size\n",
    "    AGE = 0\n",
    "    \n",
    "    x = zeros(n)\n",
    "    y = zeros(n)\n",
    "    z = zeros(n)\n",
    "    \n",
    "    for i in 1:n\n",
    "        x[i] = a + (i-1)*dx\n",
    "        y[i] = Friedmann(x[i],m,r,l)\n",
    "        z[i] = 0.5*dx * (2*sum(y) - y[1] - y[n])\n",
    "\n",
    "        if 1-dx <= x[i] <= 1+dx\n",
    "            AGE = z[i]\n",
    "        end\n",
    "    end\n",
    "    println(\"Age of the universe with m = $m, r = $r, lambda = $l is $(r2(AGE)) Gyr\")\n",
    "\n",
    "    return x[1:100:end], z[1:100:end], AGE\n",
    "end\n",
    "\n",
    "r2(x) = round(x, digits = 2);"
   ]
  },
  {
   "cell_type": "markdown",
   "metadata": {},
   "source": [
    "$\n",
    "\\Lambda < 0\n",
    "$\n",
    "\n",
    "$$\n",
    "t_{crunch} = \\frac{2\\pi}{3H_0}\\frac{1}{\\sqrt{\\Omega_{m,0}-1}}\n",
    "$$\n",
    "\n",
    "$$\n",
    "a_{max} = \\left( \\frac{\\Omega_{m,0}}{\\Omega_{m,0}-1} \\right)^{1/3}\n",
    "$$\n",
    "$$\n",
    "H_0t = \\frac{2}{3\\sqrt{\\Omega_{m,0}-1}}\\arcsin\\left[ \\left(\\frac{a}{a_{max}}\\right)^{3/2} \\right]\n",
    "$$\n",
    "$$\n",
    "a(t) = \\left[ a_{max}^{3/2}\\sin\\left( \\frac 32 H_0 t\\sqrt{\\Omega_{m,0}-1} \\right) \\right]^{2/3}\n",
    "$$\n",
    "$$\n",
    "t_0 = \\frac{2}{3H_0\\sqrt{\\Omega_{m,0}-1}}\\arcsin\\left( \\sqrt{\\frac{\\Omega_{m,0}-1}{\\Omega_{m,0}}} \\right)\n",
    "$$"
   ]
  },
  {
   "cell_type": "code",
   "execution_count": null,
   "metadata": {},
   "outputs": [],
   "source": [
    "function lambda_negative(m)\n",
    "    t_cruch = 2π / (3H₀*sqrt(m-1))\n",
    "    T = 0:1e-2:t_cruch\n",
    "    amax32 = sqrt( m/(m-1.0) )\n",
    "    a(t) = cbrt( amax32*sin( 1.5*H₀*t*sqrt(m-1) ) )^2\n",
    "    t_0 = 2.0/(3.0*H₀*sqrt(m-1))*asin( sqrt(1-1/m) )\n",
    "    a.(T), T, t_0\n",
    "end"
   ]
  },
  {
   "cell_type": "code",
   "execution_count": null,
   "metadata": {},
   "outputs": [],
   "source": [
    "a,t,age = Trapezoidal(1e-10,10,0.315,9.4e-5,0.6847) # Λ\n",
    "a1,t1,age1 = Trapezoidal(1e-10,10,0.5,0.5,0) # M + R\n",
    "a2,t2,age2 = Trapezoidal(1e-10,10,0.7,0.2,0.1) \n",
    "a3,t3,age3 = Trapezoidal(1e-10,10,0.3,0.0,1.71) # Loitering\n",
    "a4,t4,age4 = lambda_negative(1.3) # Λ Collapse\n",
    "a5,t5 = big_bounce(10,0.3,0.0,1.8)\n",
    "\n",
    "\n",
    "t_i = 0\n",
    "t_f = 90\n",
    "steps = 1000\n",
    "t_e = range(t_i, stop = t_f, length = steps)\n",
    "a_e,age_e = EmptyUniverse(t_e);"
   ]
  },
  {
   "cell_type": "code",
   "execution_count": null,
   "metadata": {},
   "outputs": [],
   "source": [
    "plot(t.-age, a, line = 3, color=:blue, label = L\"\\Lambda-CDM\")\n",
    "plot!(t1.-age1, a1, line = 3, color=:crimson, label = L\"\\Omega_{m,0} = 0.5, \\Omega_{r,0} = 0.5\")\n",
    "plot!(t2.-age2, a2, line = 3, color=:forestgreen, \n",
    "    label = L\"\\Omega_{m,0} = 0.7, \\Omega_{r,0} = 0.2, \\Omega_{\\Lambda,0} = 0.1\")\n",
    "plot!(t_e.-age_e,a_e, line = (2, :dash), color = :black, label = \"Empty Universe\")\n",
    "plot!(t3.-age3, a3, line = 3, color=:orange, label = \"Loitering\")\n",
    "plot!(t4.-age4, a4, line = 3, color=:magenta, label = L\"\\Lambda Collapse\")\n",
    "plot!(t5.-age, a5, line = 3, color=:brown, label = \"Big Bounce\")\n",
    "\n",
    "xaxis!(\"t, Gyr\", (-50,60), legend = :topleft )\n",
    "yaxis!(\"a(t)\", (0,5))\n",
    "\n",
    "scatter!([0],[1], m = (:black, 10, 5), lab = \"\") # ,zorder = 10,s = 13\n",
    "plot!([-60, 0, 0], [1, 1, -1], line = (2, \"black\", :dot ), lab = \"\")"
   ]
  },
  {
   "cell_type": "code",
   "execution_count": null,
   "metadata": {},
   "outputs": [],
   "source": [
    "savefig(\"fateou.png\")"
   ]
  },
  {
   "cell_type": "code",
   "execution_count": null,
   "metadata": {},
   "outputs": [],
   "source": []
  },
  {
   "cell_type": "code",
   "execution_count": null,
   "metadata": {},
   "outputs": [],
   "source": []
  }
 ],
 "metadata": {
  "@webio": {
   "lastCommId": null,
   "lastKernelId": null
  },
  "kernelspec": {
   "display_name": "Julia 1.6.0",
   "language": "julia",
   "name": "julia-1.6"
  },
  "language_info": {
   "file_extension": ".jl",
   "mimetype": "application/julia",
   "name": "julia",
   "version": "1.6.0"
  }
 },
 "nbformat": 4,
 "nbformat_minor": 2
}
